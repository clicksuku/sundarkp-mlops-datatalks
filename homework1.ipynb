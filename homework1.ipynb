{
 "cells": [
  {
   "cell_type": "code",
   "execution_count": 1,
   "id": "0bd0484c-b2a2-42e9-9e95-6834356205a1",
   "metadata": {},
   "outputs": [],
   "source": [
    "import pandas as pd\n",
    "import seaborn as sns\n",
    "import matplotlib.pyplot as plt\n",
    "\n",
    "from sklearn.feature_extraction import DictVectorizer\n",
    "from sklearn.linear_model import LogisticRegression, LinearRegression, Lasso, Ridge\n",
    "from sklearn.metrics import mean_squared_error"
   ]
  },
  {
   "cell_type": "code",
   "execution_count": 2,
   "id": "32edf122-1393-47e6-a5a8-e5915228c0eb",
   "metadata": {},
   "outputs": [],
   "source": [
    "def readfile(filename):\n",
    "    df = pd.read_parquet(filename)\n",
    "    return df"
   ]
  },
  {
   "cell_type": "code",
   "execution_count": 3,
   "id": "8a5ccdf6-4d9d-4faf-a829-e094c8f3d604",
   "metadata": {},
   "outputs": [],
   "source": [
    "df_jan = readfile('https://d37ci6vzurychx.cloudfront.net/trip-data/yellow_tripdata_2023-01.parquet')"
   ]
  },
  {
   "cell_type": "code",
   "execution_count": null,
   "id": "f7dd8910-7939-4e73-ac24-4db75a6b795a",
   "metadata": {},
   "outputs": [],
   "source": [
    "len(df_jan.columns)"
   ]
  },
  {
   "cell_type": "code",
   "execution_count": 4,
   "id": "ffc15d35-a548-458b-9062-9b67714181b7",
   "metadata": {},
   "outputs": [],
   "source": [
    "def computeDuration(df):\n",
    "    df['tpep_pickup_datetime'] =pd.to_datetime(df['tpep_pickup_datetime'])\n",
    "    df['tpep_dropoff_datetime'] =pd.to_datetime(df['tpep_dropoff_datetime'])\n",
    "    df['duration'] = df['tpep_dropoff_datetime'] - df['tpep_pickup_datetime']\n",
    "    df['duration'] = df['duration'].apply(lambda td: td.total_seconds()/60)\n",
    "    return df"
   ]
  },
  {
   "cell_type": "code",
   "execution_count": 5,
   "id": "c6e857e6-0ef8-4930-946d-093be9059b44",
   "metadata": {},
   "outputs": [],
   "source": [
    "df_jan = computeDuration(df_jan)"
   ]
  },
  {
   "cell_type": "code",
   "execution_count": null,
   "id": "ca09d87d-f8e8-448b-bc43-253030fc499e",
   "metadata": {},
   "outputs": [],
   "source": [
    "df_jan.head()"
   ]
  },
  {
   "cell_type": "code",
   "execution_count": null,
   "id": "ad1c7fb2-5f92-4cf0-a39b-fbf4f690e721",
   "metadata": {},
   "outputs": [],
   "source": [
    "df_jan['duration'].describe()"
   ]
  },
  {
   "cell_type": "code",
   "execution_count": null,
   "id": "f4075b93-be4b-4fed-9218-e0d273408ec4",
   "metadata": {},
   "outputs": [],
   "source": [
    "rows = df_jan.shape[0]\n",
    "cols = df_jan.shape[1]"
   ]
  },
  {
   "cell_type": "code",
   "execution_count": null,
   "id": "10711530-bde2-4f98-94cd-d7a19a08a9df",
   "metadata": {},
   "outputs": [],
   "source": [
    "rows"
   ]
  },
  {
   "cell_type": "code",
   "execution_count": 6,
   "id": "758dc31e-2ea0-4d68-8cef-83a6b5671268",
   "metadata": {},
   "outputs": [],
   "source": [
    "df_jan = df_jan[(df_jan['duration']>=1)&(df_jan['duration'] <= 60)]"
   ]
  },
  {
   "cell_type": "code",
   "execution_count": null,
   "id": "6791628a-2106-421e-921a-bdd3d4b31bbe",
   "metadata": {},
   "outputs": [],
   "source": [
    "rows = df_jan.shape[0]\n",
    "cols = df_jan.shape[1]"
   ]
  },
  {
   "cell_type": "code",
   "execution_count": null,
   "id": "011e7d37-d1a0-44d5-8ce0-f4d8322e3980",
   "metadata": {},
   "outputs": [],
   "source": [
    "rows"
   ]
  },
  {
   "cell_type": "code",
   "execution_count": null,
   "id": "b7591597-4c1b-484e-9163-a4a6556d9ba5",
   "metadata": {},
   "outputs": [],
   "source": [
    "df_jan.head()"
   ]
  },
  {
   "cell_type": "code",
   "execution_count": 7,
   "id": "fd2a0fa6-3130-43c2-a2e9-7a24402b11fd",
   "metadata": {},
   "outputs": [],
   "source": [
    "categorical = ['PULocationID','DOLocationID']\n",
    "df_jan[categorical] = df_jan[categorical].astype(str)\n",
    "\n",
    "train_dict = df_jan[categorical].to_dict(orient='records')\n",
    "dv = DictVectorizer()\n",
    "x_train = dv.fit_transform(train_dict)\n",
    "\n",
    "target = 'duration'\n",
    "y_train = df_jan[target].values\n"
   ]
  },
  {
   "cell_type": "code",
   "execution_count": 8,
   "id": "4e2ac71f-1508-49e8-b941-ff51e1d6378c",
   "metadata": {},
   "outputs": [
    {
     "name": "stderr",
     "output_type": "stream",
     "text": [
      "/opt/conda/lib/python3.12/site-packages/sklearn/metrics/_regression.py:483: FutureWarning: 'squared' is deprecated in version 1.4 and will be removed in 1.6. To calculate the root mean squared error, use the function'root_mean_squared_error'.\n",
      "  warnings.warn(\n"
     ]
    },
    {
     "data": {
      "text/plain": [
       "7.649261932106969"
      ]
     },
     "execution_count": 8,
     "metadata": {},
     "output_type": "execute_result"
    }
   ],
   "source": [
    "lr = LinearRegression()\n",
    "lr.fit(x_train,y_train)\n",
    "y_pred = lr.predict(x_train)\n",
    "mean_squared_error(y_train, y_pred, squared=False)"
   ]
  },
  {
   "cell_type": "code",
   "execution_count": 9,
   "id": "89a307de-4f0e-4b36-bf15-f9f259f20f73",
   "metadata": {},
   "outputs": [],
   "source": [
    "df_feb = readfile('https://d37ci6vzurychx.cloudfront.net/trip-data/yellow_tripdata_2023-02.parquet')"
   ]
  },
  {
   "cell_type": "code",
   "execution_count": 10,
   "id": "6d0781ba-1244-43b6-a24e-74f19da58646",
   "metadata": {},
   "outputs": [],
   "source": [
    "df_feb = computeDuration(df_feb)"
   ]
  },
  {
   "cell_type": "code",
   "execution_count": 11,
   "id": "9edd97bb-84d6-4a9e-bccb-4419b1820c4f",
   "metadata": {},
   "outputs": [],
   "source": [
    "df_feb = df_feb[(df_feb['duration']>=1)&(df_feb['duration'] <= 60)]"
   ]
  },
  {
   "cell_type": "code",
   "execution_count": 12,
   "id": "3246c02b-ce56-4e6d-b57b-74b4de1c6b9d",
   "metadata": {},
   "outputs": [],
   "source": [
    "df_feb[categorical] = df_feb[categorical].astype(str)\n",
    "val_dicts = df_feb[categorical].to_dict(orient='records')\n",
    "\n",
    "x_val = dv.transform(val_dicts)\n",
    "target = 'duration'\n",
    "y_val = df_feb[target].values"
   ]
  },
  {
   "cell_type": "code",
   "execution_count": 13,
   "id": "5b061f60-d6ee-462c-b4b6-7e8d67a676ca",
   "metadata": {},
   "outputs": [],
   "source": [
    "y_pred = lr.predict(x_val)"
   ]
  },
  {
   "cell_type": "code",
   "execution_count": 14,
   "id": "bc570b18-6a39-4802-aa2d-6a21b0167a7f",
   "metadata": {},
   "outputs": [
    {
     "name": "stderr",
     "output_type": "stream",
     "text": [
      "/opt/conda/lib/python3.12/site-packages/sklearn/metrics/_regression.py:483: FutureWarning: 'squared' is deprecated in version 1.4 and will be removed in 1.6. To calculate the root mean squared error, use the function'root_mean_squared_error'.\n",
      "  warnings.warn(\n"
     ]
    },
    {
     "data": {
      "text/plain": [
       "7.811818743246608"
      ]
     },
     "execution_count": 14,
     "metadata": {},
     "output_type": "execute_result"
    }
   ],
   "source": [
    "mean_squared_error(y_val, y_pred, squared=False)"
   ]
  },
  {
   "cell_type": "code",
   "execution_count": null,
   "id": "4a5bb494-b705-4950-bc14-b94511962bd1",
   "metadata": {},
   "outputs": [],
   "source": []
  }
 ],
 "metadata": {
  "kernelspec": {
   "display_name": "Python 3 (ipykernel)",
   "language": "python",
   "name": "python3"
  },
  "language_info": {
   "codemirror_mode": {
    "name": "ipython",
    "version": 3
   },
   "file_extension": ".py",
   "mimetype": "text/x-python",
   "name": "python",
   "nbconvert_exporter": "python",
   "pygments_lexer": "ipython3",
   "version": "3.12.2"
  }
 },
 "nbformat": 4,
 "nbformat_minor": 5
}
